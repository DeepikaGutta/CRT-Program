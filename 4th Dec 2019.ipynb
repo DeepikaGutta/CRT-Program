{
 "cells": [
  {
   "cell_type": "markdown",
   "metadata": {},
   "source": [
    "# Day Objectives\n",
    " - Loop functions\n",
    " - Functions(User defined functions)\n",
    " - List,Tuples & String"
   ]
  },
  {
   "cell_type": "code",
   "execution_count": 6,
   "metadata": {},
   "outputs": [
    {
     "name": "stdout",
     "output_type": "stream",
     "text": [
      "enter the number1298\n",
      "8 9 2 1 "
     ]
    }
   ],
   "source": [
    "# Read the number as input\n",
    "# print the outputs of digits of the number\n",
    "# Test Cases\n",
    "# 145 -- 5 4 1\n",
    "# 123 -- 3 2 1\n",
    "n=int(input('enter the number'))\n",
    "while n !=0:\n",
    "  r=n%10\n",
    "  print(r,end=' ')\n",
    "  n=n//10\n"
   ]
  },
  {
   "cell_type": "markdown",
   "metadata": {},
   "source": [
    "### Functions in the programming\n",
    "- program will be divided into small subparts\n",
    "- It makes the reuse of the code\n",
    "- Functions makes the programming more easier\n",
    "- def vis a keyword which is used to define the function\n",
    "- function name follows the camel case always\n",
    " - fun() ispalindrome() ispalindromecheck()\n",
    "- defination of the function can be anything for the given requirement\n",
    "- def functionName():\n",
    " - statements\n",
    " - return"
   ]
  },
  {
   "cell_type": "code",
   "execution_count": 7,
   "metadata": {},
   "outputs": [
    {
     "name": "stdout",
     "output_type": "stream",
     "text": [
      "785907\n"
     ]
    },
    {
     "data": {
      "text/plain": [
       "9"
      ]
     },
     "execution_count": 7,
     "metadata": {},
     "output_type": "execute_result"
    }
   ],
   "source": [
    "# read the input as a number\n",
    "# print the output as large digit of the given number\n",
    "# 58942 -- 9\n",
    "# 7643556 -- 7\n",
    "def largeDigit(n):\n",
    "    #logic\n",
    "    large=0\n",
    "    while n !=0:\n",
    "        r=n%10\n",
    "        if large<r:\n",
    "            large=r\n",
    "        n=n//10\n",
    "    return large\n",
    "n=int(input(''))\n",
    "largeDigit(n)"
   ]
  },
  {
   "cell_type": "code",
   "execution_count": 11,
   "metadata": {},
   "outputs": [
    {
     "name": "stdout",
     "output_type": "stream",
     "text": [
      " 145\n"
     ]
    },
    {
     "data": {
      "text/plain": [
       "10"
      ]
     },
     "execution_count": 11,
     "metadata": {},
     "output_type": "execute_result"
    }
   ],
   "source": [
    "# read the input as number\n",
    "# sum of digits of the given number\n",
    "# 145 -- 10\n",
    "def sumofDigit(n):\n",
    "    s=0\n",
    "    while n !=0:\n",
    "        r=n%10\n",
    "        s=s+r\n",
    "        n=n//10\n",
    "    return s\n",
    "n=int(input(' '))\n",
    "sumofDigit(n)"
   ]
  },
  {
   "cell_type": "code",
   "execution_count": 13,
   "metadata": {},
   "outputs": [
    {
     "name": "stdout",
     "output_type": "stream",
     "text": [
      "12345\n"
     ]
    },
    {
     "data": {
      "text/plain": [
       "'not a palindrome'"
      ]
     },
     "execution_count": 13,
     "metadata": {},
     "output_type": "execute_result"
    }
   ],
   "source": [
    "# read the number as input\n",
    "# print the output as palindrome or not palindrome\n",
    "# 121 -- palindrome\n",
    "# 1234 -- not palindrome\n",
    "def palindrome(n):\n",
    "    s=0\n",
    "    buffer=n\n",
    "    while n !=0:\n",
    "        r=n%10\n",
    "        s=s*10+r\n",
    "        n=n//10\n",
    "    if s==buffer:\n",
    "        return \"palindrome\"\n",
    "    else:\n",
    "        return \"not a palindrome\"\n",
    "    return\n",
    "n=int(input(''))\n",
    "palindrome(n)"
   ]
  },
  {
   "cell_type": "code",
   "execution_count": 1,
   "metadata": {},
   "outputs": [
    {
     "name": "stdout",
     "output_type": "stream",
     "text": [
      " 121233451\n"
     ]
    },
    {
     "data": {
      "text/plain": [
       "5"
      ]
     },
     "execution_count": 1,
     "metadata": {},
     "output_type": "execute_result"
    }
   ],
   "source": [
    "# read the number as input\n",
    "# print the last digits from last 3 positions of the number\n",
    "# test cases\n",
    "# 59852 -- 8\n",
    "# 175215 -- 5\n",
    "def printlargedigit(n):\n",
    "    i=0\n",
    "    large=0\n",
    "    while i != 3:\n",
    "        r=n%10\n",
    "        if large<r:\n",
    "            large=r\n",
    "        n=n//10\n",
    "        i=i+1\n",
    "    return large\n",
    "n=int(input(' '))\n",
    "printlargedigit(n)\n"
   ]
  },
  {
   "cell_type": "markdown",
   "metadata": {},
   "source": [
    "### Datastructures in Python Programmi8ng\n",
    "- list\n",
    "- tuples\n",
    "- dictonaries\n",
    "- sets"
   ]
  },
  {
   "cell_type": "code",
   "execution_count": 1,
   "metadata": {},
   "outputs": [
    {
     "name": "stdout",
     "output_type": "stream",
     "text": [
      "[1, 2, 3, 4, 5]\n"
     ]
    }
   ],
   "source": [
    "li=[1,2,3,4,5]\n",
    "print(li)"
   ]
  },
  {
   "cell_type": "code",
   "execution_count": 2,
   "metadata": {},
   "outputs": [
    {
     "name": "stdout",
     "output_type": "stream",
     "text": [
      "[123, 43, 'gitam', 12.23]\n"
     ]
    }
   ],
   "source": [
    "list=[123,43,\"gitam\",12.23]\n",
    "print(list)"
   ]
  },
  {
   "cell_type": "code",
   "execution_count": 3,
   "metadata": {},
   "outputs": [
    {
     "name": "stdout",
     "output_type": "stream",
     "text": [
      "12345"
     ]
    }
   ],
   "source": [
    "for i in range(len(li)):\n",
    "    print(li[i],end='')"
   ]
  },
  {
   "cell_type": "code",
   "execution_count": 6,
   "metadata": {},
   "outputs": [
    {
     "name": "stdout",
     "output_type": "stream",
     "text": [
      "1234567891011"
     ]
    }
   ],
   "source": [
    "for i in range(1,12):\n",
    "  print(i,end='')"
   ]
  },
  {
   "cell_type": "code",
   "execution_count": 7,
   "metadata": {},
   "outputs": [
    {
     "name": "stdout",
     "output_type": "stream",
     "text": [
      "0 2 4 6 8 10 12 14 16 18 20 22 24 "
     ]
    }
   ],
   "source": [
    "for i in range(0,25,2):\n",
    "    print(i,end=' ')"
   ]
  },
  {
   "cell_type": "code",
   "execution_count": null,
   "metadata": {},
   "outputs": [],
   "source": []
  },
  {
   "cell_type": "code",
   "execution_count": null,
   "metadata": {},
   "outputs": [],
   "source": []
  }
 ],
 "metadata": {
  "kernelspec": {
   "display_name": "Python 3",
   "language": "python",
   "name": "python3"
  },
  "language_info": {
   "codemirror_mode": {
    "name": "ipython",
    "version": 3
   },
   "file_extension": ".py",
   "mimetype": "text/x-python",
   "name": "python",
   "nbconvert_exporter": "python",
   "pygments_lexer": "ipython3",
   "version": "3.7.3"
  }
 },
 "nbformat": 4,
 "nbformat_minor": 2
}
