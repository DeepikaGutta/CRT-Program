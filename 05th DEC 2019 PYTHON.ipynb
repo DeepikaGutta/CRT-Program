{
 "cells": [
  {
   "cell_type": "code",
   "execution_count": 1,
   "metadata": {},
   "outputs": [
    {
     "name": "stdout",
     "output_type": "stream",
     "text": [
      "5\n"
     ]
    }
   ],
   "source": [
    "li=[1,2,3,4,5]\n",
    "print(len(li)) #length will return to the length of the value"
   ]
  },
  {
   "cell_type": "code",
   "execution_count": 2,
   "metadata": {},
   "outputs": [
    {
     "name": "stdout",
     "output_type": "stream",
     "text": [
      "[1, 2, 1954, 4, 5]\n"
     ]
    }
   ],
   "source": [
    "li[2]=1954 #update the list of the value\n",
    "print(li)"
   ]
  },
  {
   "cell_type": "code",
   "execution_count": 3,
   "metadata": {},
   "outputs": [],
   "source": [
    "del li[3] #delete the specific index value"
   ]
  },
  {
   "cell_type": "code",
   "execution_count": 4,
   "metadata": {},
   "outputs": [
    {
     "name": "stdout",
     "output_type": "stream",
     "text": [
      "[1, 2, 1954, 5]\n"
     ]
    }
   ],
   "source": [
    "print(li)"
   ]
  },
  {
   "cell_type": "code",
   "execution_count": 10,
   "metadata": {},
   "outputs": [
    {
     "name": "stdout",
     "output_type": "stream",
     "text": [
      "5\n",
      "1954\n",
      "[2, 1954]\n",
      "[]\n",
      "[1954]\n",
      "[2]\n"
     ]
    }
   ],
   "source": [
    "print(li[-1]) # to access the last item of the list\n",
    "print(li[-2])\n",
    "print(li[1:3])\n",
    "print(li[-1:-2])\n",
    "print(li[-2:-1])\n",
    "print(li[-3:-2])"
   ]
  },
  {
   "cell_type": "code",
   "execution_count": 11,
   "metadata": {},
   "outputs": [
    {
     "name": "stdout",
     "output_type": "stream",
     "text": [
      "1962\n",
      "1954\n",
      "1\n",
      "490\n"
     ]
    }
   ],
   "source": [
    "# Methods of the list\n",
    "print(sum(li)) # sum of the list\n",
    "print(max(li)) # maximum value of the list\n",
    "print(min(li)) # minimum value of the list\n",
    "print(sum(li)//len(li)) # average"
   ]
  },
  {
   "cell_type": "code",
   "execution_count": 12,
   "metadata": {},
   "outputs": [
    {
     "data": {
      "text/plain": [
       "[1, 2, 1954, 5]"
      ]
     },
     "execution_count": 12,
     "metadata": {},
     "output_type": "execute_result"
    }
   ],
   "source": [
    "li"
   ]
  },
  {
   "cell_type": "code",
   "execution_count": 13,
   "metadata": {},
   "outputs": [
    {
     "name": "stdout",
     "output_type": "stream",
     "text": [
      "[1, 2, 3, 4, 5, 6]"
     ]
    }
   ],
   "source": [
    "li1=[1,2,3,4,5,6]\n",
    "print(li1,end ='')"
   ]
  },
  {
   "cell_type": "code",
   "execution_count": 14,
   "metadata": {},
   "outputs": [
    {
     "data": {
      "text/plain": [
       "[1, 2, 1954, 5, 200]"
      ]
     },
     "execution_count": 14,
     "metadata": {},
     "output_type": "execute_result"
    }
   ],
   "source": [
    "# list methods\n",
    "li.append(200) #append will insert the new item at any specific position\n",
    "li"
   ]
  },
  {
   "cell_type": "code",
   "execution_count": 15,
   "metadata": {},
   "outputs": [
    {
     "data": {
      "text/plain": [
       "[1, 2, 1954, 59, 5, 200]"
      ]
     },
     "execution_count": 15,
     "metadata": {},
     "output_type": "execute_result"
    }
   ],
   "source": [
    "li.insert(3,59) #inserts the new item at any specific position\n",
    "li"
   ]
  },
  {
   "cell_type": "code",
   "execution_count": 17,
   "metadata": {},
   "outputs": [
    {
     "data": {
      "text/plain": [
       "[1, 2, 1954, 59, 5, 200, 100]"
      ]
     },
     "execution_count": 17,
     "metadata": {},
     "output_type": "execute_result"
    }
   ],
   "source": [
    "li.append(100)\n",
    "li"
   ]
  },
  {
   "cell_type": "code",
   "execution_count": 18,
   "metadata": {},
   "outputs": [
    {
     "data": {
      "text/plain": [
       "[1, 2, 1954, 59, 100, 5, 200, 100]"
      ]
     },
     "execution_count": 18,
     "metadata": {},
     "output_type": "execute_result"
    }
   ],
   "source": [
    "li.insert(4,100)\n",
    "li\n"
   ]
  },
  {
   "cell_type": "code",
   "execution_count": 19,
   "metadata": {},
   "outputs": [
    {
     "data": {
      "text/plain": [
       "2"
      ]
     },
     "execution_count": 19,
     "metadata": {},
     "output_type": "execute_result"
    }
   ],
   "source": [
    "li.count(100) # counts the no of times the item is repeated in the list\n"
   ]
  },
  {
   "cell_type": "code",
   "execution_count": 20,
   "metadata": {},
   "outputs": [
    {
     "data": {
      "text/plain": [
       "1"
      ]
     },
     "execution_count": 20,
     "metadata": {},
     "output_type": "execute_result"
    }
   ],
   "source": [
    "li.count(1)"
   ]
  },
  {
   "cell_type": "code",
   "execution_count": 21,
   "metadata": {},
   "outputs": [
    {
     "data": {
      "text/plain": [
       "0"
      ]
     },
     "execution_count": 21,
     "metadata": {},
     "output_type": "execute_result"
    }
   ],
   "source": [
    "li.count(0)"
   ]
  },
  {
   "cell_type": "code",
   "execution_count": 22,
   "metadata": {},
   "outputs": [
    {
     "data": {
      "text/plain": [
       "4"
      ]
     },
     "execution_count": 22,
     "metadata": {},
     "output_type": "execute_result"
    }
   ],
   "source": [
    "li.index(100) #index() gives the index of specified value"
   ]
  },
  {
   "cell_type": "code",
   "execution_count": 23,
   "metadata": {},
   "outputs": [
    {
     "data": {
      "text/plain": [
       "[1, 2, 5, 59, 100, 100, 200, 1954]"
      ]
     },
     "execution_count": 23,
     "metadata": {},
     "output_type": "execute_result"
    }
   ],
   "source": [
    "li.sort() #sorts the entire in ascending order\n",
    "li"
   ]
  },
  {
   "cell_type": "code",
   "execution_count": 26,
   "metadata": {},
   "outputs": [
    {
     "name": "stdout",
     "output_type": "stream",
     "text": [
      "[1, 2, 100, 100]\n",
      "[1, 2, 100]\n"
     ]
    },
    {
     "data": {
      "text/plain": [
       "[1, 2]"
      ]
     },
     "execution_count": 26,
     "metadata": {},
     "output_type": "execute_result"
    }
   ],
   "source": [
    "li.sort()\n",
    "print(li)\n",
    "li.pop() # pop() removes the item of last index\n",
    "print(li)\n",
    "li.pop(2) #pop(index) removes the item of specified index\n",
    "li"
   ]
  },
  {
   "cell_type": "code",
   "execution_count": 27,
   "metadata": {},
   "outputs": [
    {
     "data": {
      "text/plain": [
       "65"
      ]
     },
     "execution_count": 27,
     "metadata": {},
     "output_type": "execute_result"
    }
   ],
   "source": [
    "# define the second largest number in  the list\n",
    "# li=[1,69,16,25,2,3,65]\n",
    "# output=25\n",
    "def secondlarge(li):\n",
    "    li.sort()\n",
    "    return li[-2]\n",
    "li=[1,69,16,25,2,3,65]\n",
    "secondlarge(li)"
   ]
  },
  {
   "cell_type": "code",
   "execution_count": 28,
   "metadata": {},
   "outputs": [
    {
     "data": {
      "text/plain": [
       "25"
      ]
     },
     "execution_count": 28,
     "metadata": {},
     "output_type": "execute_result"
    }
   ],
   "source": [
    "def genericlarge(li,n):\n",
    "    li.sort()\n",
    "    return li[-n]\n",
    "genericlarge(li,3)"
   ]
  },
  {
   "cell_type": "code",
   "execution_count": 29,
   "metadata": {},
   "outputs": [
    {
     "data": {
      "text/plain": [
       "25"
      ]
     },
     "execution_count": 29,
     "metadata": {},
     "output_type": "execute_result"
    }
   ],
   "source": [
    "def genericleast(li,n):\n",
    "    li.sort()\n",
    "    return li[n]\n",
    "genericleast(li,4)"
   ]
  },
  {
   "cell_type": "markdown",
   "metadata": {},
   "source": [
    "# number to list conversion\n",
    "- [19563212] = [1,9,5,6,,3,2,1,2]"
   ]
  },
  {
   "cell_type": "code",
   "execution_count": 30,
   "metadata": {},
   "outputs": [
    {
     "data": {
      "text/plain": [
       "[1, 9, 5, 6, 3, 2, 1, 2]"
      ]
     },
     "execution_count": 30,
     "metadata": {},
     "output_type": "execute_result"
    }
   ],
   "source": [
    "def numbertolist(n):\n",
    "    li=[] #empty list\n",
    "    while n!= 0:\n",
    "        r=n%10\n",
    "        li.append(r)\n",
    "        n=n//10\n",
    "    li.reverse()\n",
    "    return li\n",
    "numbertolist(19563212)"
   ]
  },
  {
   "cell_type": "markdown",
   "metadata": {},
   "source": [
    "# Data structures - Tuples\n",
    "- it is similar to list object\n",
    "- list will be enclosed in square brackets[] and touples will be enclosed in paranthesis ()\n",
    "- list can be increased/decreased and tuple is fixed so that you cant increase or decrease the tuple\n",
    "- it means list is mutable and tuple is unmutable\n",
    "- list will be used for read and write where as tuple is used for only reading"
   ]
  },
  {
   "cell_type": "code",
   "execution_count": 35,
   "metadata": {},
   "outputs": [
    {
     "data": {
      "text/plain": [
       "(1, 2, 3, 4, 5)"
      ]
     },
     "execution_count": 35,
     "metadata": {},
     "output_type": "execute_result"
    }
   ],
   "source": [
    "t1=(1,2,3,4,5)\n",
    "t1"
   ]
  },
  {
   "cell_type": "code",
   "execution_count": 32,
   "metadata": {},
   "outputs": [
    {
     "data": {
      "text/plain": [
       "(1, 2, 3, 4)"
      ]
     },
     "execution_count": 32,
     "metadata": {},
     "output_type": "execute_result"
    }
   ],
   "source": [
    "t1[0:4]\n"
   ]
  },
  {
   "cell_type": "code",
   "execution_count": 36,
   "metadata": {},
   "outputs": [
    {
     "data": {
      "text/plain": [
       "3"
      ]
     },
     "execution_count": 36,
     "metadata": {},
     "output_type": "execute_result"
    }
   ],
   "source": [
    "t1[2]"
   ]
  },
  {
   "cell_type": "markdown",
   "metadata": {},
   "source": [
    "# Data structures - dictionaries\n",
    "- this data structure object work on set of keys and values \n",
    "- unique key sets will be defined\n",
    "- every key is seperated from its value by colon(:)\n",
    "- every key and value will be seperated by comma(,)\n",
    "- this will be enclosed by curly brackets{}"
   ]
  },
  {
   "cell_type": "code",
   "execution_count": 2,
   "metadata": {},
   "outputs": [
    {
     "name": "stdout",
     "output_type": "stream",
     "text": [
      "{'name': 'Deepika', 'email': 'gdeepika2913@gmail.com', 'phonenumber': '9182102729'}\n"
     ]
    }
   ],
   "source": [
    "d1={\"name\":\"Deepika\",\"email\":\"gdeepika2913@gmail.com\",\"phonenumber\":\"9182102729\"}\n",
    "print(d1)"
   ]
  },
  {
   "cell_type": "code",
   "execution_count": 5,
   "metadata": {},
   "outputs": [
    {
     "name": "stdout",
     "output_type": "stream",
     "text": [
      "gdeepika2913@gmail.com\n",
      "9701900836\n"
     ]
    }
   ],
   "source": [
    "print(d1[\"email\"])\n",
    "print(d1[\"phonenumber\"])\n",
    "d1[\"phonenumber\"]=9701900836 #to modify the info"
   ]
  },
  {
   "cell_type": "markdown",
   "metadata": {},
   "source": [
    "# contact application\n",
    "--used concepts:dict,list and tuples\n"
   ]
  },
  {
   "cell_type": "markdown",
   "metadata": {},
   "source": [
    "# modules of contact application\n",
    "- add contact\n",
    "- search contact\n",
    "- import the contact\n",
    "- update the contact\n",
    "- delete the contact"
   ]
  },
  {
   "cell_type": "code",
   "execution_count": 8,
   "metadata": {},
   "outputs": [
    {
     "name": "stdout",
     "output_type": "stream",
     "text": [
      "contact added\n",
      "contact added\n",
      "contact is not added\n"
     ]
    }
   ],
   "source": [
    "contacts={} #empty dict object\n",
    "#define the contacts for add contacts\n",
    "def addcontacts(name,phone):\n",
    "    if name not in contacts:\n",
    "        contacts[name]=phone\n",
    "        print(\"contact added\")\n",
    "    else:\n",
    "        print(\"contact is not added\")\n",
    "    return\n",
    "addcontacts('sindhu',7901418067) #contact added\n",
    "addcontacts('vidya',9000318534) #contact added\n",
    "addcontacts('sindhu',7901418067) #contact not added"
   ]
  },
  {
   "cell_type": "code",
   "execution_count": 9,
   "metadata": {},
   "outputs": [
    {
     "data": {
      "text/plain": [
       "{'sindhu': 7901418067, 'vidya': 9000318534}"
      ]
     },
     "execution_count": 9,
     "metadata": {},
     "output_type": "execute_result"
    }
   ],
   "source": [
    "contacts"
   ]
  },
  {
   "cell_type": "code",
   "execution_count": 10,
   "metadata": {},
   "outputs": [
    {
     "name": "stdout",
     "output_type": "stream",
     "text": [
      "sindhu  :  7901418067\n",
      "vidya  :  9000318534\n",
      "contact is not present\n"
     ]
    }
   ],
   "source": [
    "# Define function for search contact\n",
    "def searchcontact(name):\n",
    "    if name in contacts:\n",
    "        print(name,\" : \",contacts[name])\n",
    "    else:\n",
    "        print('contact is not present')\n",
    "    return\n",
    "searchcontact('sindhu')\n",
    "searchcontact('vidya')\n",
    "searchcontact('deepika')"
   ]
  },
  {
   "cell_type": "code",
   "execution_count": 13,
   "metadata": {},
   "outputs": [
    {
     "name": "stdout",
     "output_type": "stream",
     "text": [
      "new contact is added\n"
     ]
    }
   ],
   "source": [
    "#Define the function for import the new contacts\n",
    "def importcontacts(newcontacts):\n",
    "    contacts.update(newcontacts)\n",
    "    print('new contact is added')\n",
    "    return\n",
    "newcontacts={\"deepika\":9182102729,\"daddy\":9849698141}\n",
    "importcontacts(newcontacts)"
   ]
  },
  {
   "cell_type": "code",
   "execution_count": 14,
   "metadata": {},
   "outputs": [
    {
     "data": {
      "text/plain": [
       "{'sindhu': 7901418067,\n",
       " 'vidya': 9000318534,\n",
       " 'deepika': 9182102729,\n",
       " 'daddy': 9849698141}"
      ]
     },
     "execution_count": 14,
     "metadata": {},
     "output_type": "execute_result"
    }
   ],
   "source": [
    "contacts\n"
   ]
  },
  {
   "cell_type": "code",
   "execution_count": 19,
   "metadata": {},
   "outputs": [
    {
     "name": "stdout",
     "output_type": "stream",
     "text": [
      "contact update is successful\n",
      "please add new contact details\n"
     ]
    }
   ],
   "source": [
    "#define a function for update details\n",
    "def updatedetails(name,phone):\n",
    "    if name in contacts:\n",
    "        contacts[name]=phone\n",
    "        print('contact update is successful')\n",
    "    else:\n",
    "        print('please add new contact details')\n",
    "    return\n",
    "updatedetails('deepika',182102729) #update is successful\n",
    "updatedetails('mummy',9701900836) #please add new contact"
   ]
  },
  {
   "cell_type": "code",
   "execution_count": 20,
   "metadata": {},
   "outputs": [
    {
     "name": "stdout",
     "output_type": "stream",
     "text": [
      "contact is not present\n",
      "contact is not present\n"
     ]
    }
   ],
   "source": [
    "#deleting a contact\n",
    "def deletecontact(name):\n",
    "    if name in contacts:\n",
    "        del contacts[name]\n",
    "        print('contact is deleted')\n",
    "    else:\n",
    "        print('contact is not present')\n",
    "    return\n",
    "deletecontact('vidya') #contact is deleted\n",
    "deletecontact('bro') #contact is not present"
   ]
  },
  {
   "cell_type": "code",
   "execution_count": 21,
   "metadata": {},
   "outputs": [
    {
     "data": {
      "text/plain": [
       "{'sindhu': 7901418067, 'deepika': 182102729, 'daddy': 9849698141}"
      ]
     },
     "execution_count": 21,
     "metadata": {},
     "output_type": "execute_result"
    }
   ],
   "source": [
    "contacts\n"
   ]
  },
  {
   "cell_type": "markdown",
   "metadata": {},
   "source": [
    "# String to list conversion\n",
    "- \"1 2 3 4 5 6\"-[1,2,3,4,5,6]"
   ]
  },
  {
   "cell_type": "code",
   "execution_count": 22,
   "metadata": {},
   "outputs": [
    {
     "name": "stdout",
     "output_type": "stream",
     "text": [
      "enter the numbers1 2 3 4 5 6\n",
      "<class 'str'>\n",
      "1 2 3 4 5 6\n"
     ]
    }
   ],
   "source": [
    "a=input('enter the numbers')\n",
    "print(type(a))\n",
    "print(a)"
   ]
  },
  {
   "cell_type": "code",
   "execution_count": 23,
   "metadata": {},
   "outputs": [
    {
     "name": "stdout",
     "output_type": "stream",
     "text": [
      "application test working\n"
     ]
    }
   ],
   "source": [
    "s=\"application test working\"\n",
    "print(s)"
   ]
  },
  {
   "cell_type": "code",
   "execution_count": 25,
   "metadata": {},
   "outputs": [
    {
     "name": "stdout",
     "output_type": "stream",
     "text": [
      "['application', 'test', 'working']\n"
     ]
    }
   ],
   "source": [
    "s=\"application test working\"\n",
    "li=s.split()\n",
    "print(li)"
   ]
  },
  {
   "cell_type": "code",
   "execution_count": 26,
   "metadata": {},
   "outputs": [
    {
     "name": "stdout",
     "output_type": "stream",
     "text": [
      "['git', 'm hyder', 'b', 'd python progr', 'mming']\n"
     ]
    }
   ],
   "source": [
    "s1=\"gitam hyderabad python programming\"\n",
    "li1=s1.split('a')\n",
    "print(li1)"
   ]
  },
  {
   "cell_type": "code",
   "execution_count": 29,
   "metadata": {},
   "outputs": [
    {
     "data": {
      "text/plain": [
       "[1, 2, 3, 4, 5, 6]"
      ]
     },
     "execution_count": 29,
     "metadata": {},
     "output_type": "execute_result"
    }
   ],
   "source": [
    "# define a function to convert the string to list\n",
    "def stringtolist(s):\n",
    "    li=s.split() #divide the string by white space\n",
    "    numberlist=[]\n",
    "    for i in li:\n",
    "        numberlist.append(int(i))\n",
    "    return numberlist\n",
    "stringtolist('1 2 3 4 5 6')\n"
   ]
  },
  {
   "cell_type": "code",
   "execution_count": null,
   "metadata": {},
   "outputs": [],
   "source": []
  },
  {
   "cell_type": "code",
   "execution_count": null,
   "metadata": {},
   "outputs": [],
   "source": []
  },
  {
   "cell_type": "code",
   "execution_count": null,
   "metadata": {},
   "outputs": [],
   "source": []
  }
 ],
 "metadata": {
  "kernelspec": {
   "display_name": "Python 3",
   "language": "python",
   "name": "python3"
  },
  "language_info": {
   "codemirror_mode": {
    "name": "ipython",
    "version": 3
   },
   "file_extension": ".py",
   "mimetype": "text/x-python",
   "name": "python",
   "nbconvert_exporter": "python",
   "pygments_lexer": "ipython3",
   "version": "3.7.3"
  }
 },
 "nbformat": 4,
 "nbformat_minor": 2
}
